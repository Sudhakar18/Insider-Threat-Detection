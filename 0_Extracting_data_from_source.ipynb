{
 "cells": [
  {
   "cell_type": "code",
   "execution_count": 1,
   "metadata": {},
   "outputs": [],
   "source": [
    "import pandas as pd\n",
    "import os"
   ]
  },
  {
   "cell_type": "code",
   "execution_count": 2,
   "metadata": {},
   "outputs": [
    {
     "name": "stdout",
     "output_type": "stream",
     "text": [
      "Wall time: 40 s\n"
     ]
    }
   ],
   "source": [
    "%%time\n",
    "device_data = pd.read_csv(\"d:\\\\r4.2/device.csv\")\n",
    "email_data = pd.read_csv(\"d:\\\\r4.2/email.csv\")\n",
    "file_data = pd.read_csv(\"d:\\\\r4.2/file.csv\")\n",
    "logon_data = pd.read_csv(\"d:\\\\r4.2/logon.csv\")\n",
    "psychometric_data = pd.read_csv(\"d:\\\\r4.2/psychometric.csv\")\n",
    "\n",
    "device_data.to_pickle(\"./device.pkl\")\n",
    "email_data.to_pickle(\"./email.pkl\")\n",
    "file_data.to_pickle(\"./file.pkl\")\n",
    "logon_data.to_pickle(\"./logon.pkl\")\n",
    "psychometric_data.to_pickle(\"./psychometric.pkl\")"
   ]
  },
  {
   "cell_type": "code",
   "execution_count": 81,
   "metadata": {},
   "outputs": [
    {
     "name": "stdout",
     "output_type": "stream",
     "text": [
      "Wall time: 9.22 s\n"
     ]
    }
   ],
   "source": [
    "%%time\n",
    "device = pd.read_pickle(\"./device.pkl\")\n",
    "email = pd.read_pickle(\"./email.pkl\")\n",
    "file = pd.read_pickle(\"./file.pkl\")\n",
    "logon = pd.read_pickle(\"./logon.pkl\")\n",
    "psychometric = pd.read_pickle(\"./psychometric.pkl\")"
   ]
  },
  {
   "cell_type": "code",
   "execution_count": 2,
   "metadata": {},
   "outputs": [
    {
     "name": "stdout",
     "output_type": "stream",
     "text": [
      "Wall time: 32min 33s\n"
     ]
    }
   ],
   "source": [
    "%%time\n",
    "http = pd.read_csv(\"d:\\\\r4.2/http.csv\")"
   ]
  },
  {
   "cell_type": "code",
   "execution_count": 24,
   "metadata": {},
   "outputs": [
    {
     "data": {
      "text/html": [
       "<div>\n",
       "<style scoped>\n",
       "    .dataframe tbody tr th:only-of-type {\n",
       "        vertical-align: middle;\n",
       "    }\n",
       "\n",
       "    .dataframe tbody tr th {\n",
       "        vertical-align: top;\n",
       "    }\n",
       "\n",
       "    .dataframe thead th {\n",
       "        text-align: right;\n",
       "    }\n",
       "</style>\n",
       "<table border=\"1\" class=\"dataframe\">\n",
       "  <thead>\n",
       "    <tr style=\"text-align: right;\">\n",
       "      <th></th>\n",
       "      <th>id</th>\n",
       "      <th>date</th>\n",
       "      <th>user</th>\n",
       "      <th>pc</th>\n",
       "      <th>url</th>\n",
       "      <th>content</th>\n",
       "    </tr>\n",
       "  </thead>\n",
       "  <tbody>\n",
       "    <tr>\n",
       "      <th>0</th>\n",
       "      <td>{V1Y4-S2IR20QU-6154HFXJ}</td>\n",
       "      <td>01/02/2010 06:55:16</td>\n",
       "      <td>LRR0148</td>\n",
       "      <td>PC-4275</td>\n",
       "      <td>http://msn.com/The_Human_Centipede_First_Seque...</td>\n",
       "      <td>remain representatives consensus concert altho...</td>\n",
       "    </tr>\n",
       "  </tbody>\n",
       "</table>\n",
       "</div>"
      ],
      "text/plain": [
       "                         id                 date     user       pc  \\\n",
       "0  {V1Y4-S2IR20QU-6154HFXJ}  01/02/2010 06:55:16  LRR0148  PC-4275   \n",
       "\n",
       "                                                 url  \\\n",
       "0  http://msn.com/The_Human_Centipede_First_Seque...   \n",
       "\n",
       "                                             content  \n",
       "0  remain representatives consensus concert altho...  "
      ]
     },
     "execution_count": 24,
     "metadata": {},
     "output_type": "execute_result"
    }
   ],
   "source": [
    "http.head(1)"
   ]
  },
  {
   "cell_type": "code",
   "execution_count": 25,
   "metadata": {},
   "outputs": [
    {
     "data": {
      "text/html": [
       "<div>\n",
       "<style scoped>\n",
       "    .dataframe tbody tr th:only-of-type {\n",
       "        vertical-align: middle;\n",
       "    }\n",
       "\n",
       "    .dataframe tbody tr th {\n",
       "        vertical-align: top;\n",
       "    }\n",
       "\n",
       "    .dataframe thead th {\n",
       "        text-align: right;\n",
       "    }\n",
       "</style>\n",
       "<table border=\"1\" class=\"dataframe\">\n",
       "  <thead>\n",
       "    <tr style=\"text-align: right;\">\n",
       "      <th></th>\n",
       "      <th>id</th>\n",
       "      <th>date</th>\n",
       "      <th>user</th>\n",
       "      <th>pc</th>\n",
       "      <th>activity</th>\n",
       "    </tr>\n",
       "  </thead>\n",
       "  <tbody>\n",
       "    <tr>\n",
       "      <th>0</th>\n",
       "      <td>{J1S3-L9UU75BQ-7790ATPL}</td>\n",
       "      <td>01/02/2010 07:21:06</td>\n",
       "      <td>MOH0273</td>\n",
       "      <td>PC-6699</td>\n",
       "      <td>Connect</td>\n",
       "    </tr>\n",
       "  </tbody>\n",
       "</table>\n",
       "</div>"
      ],
      "text/plain": [
       "                         id                 date     user       pc activity\n",
       "0  {J1S3-L9UU75BQ-7790ATPL}  01/02/2010 07:21:06  MOH0273  PC-6699  Connect"
      ]
     },
     "execution_count": 25,
     "metadata": {},
     "output_type": "execute_result"
    }
   ],
   "source": [
    "device.head(1)"
   ]
  },
  {
   "cell_type": "code",
   "execution_count": 26,
   "metadata": {},
   "outputs": [
    {
     "data": {
      "text/html": [
       "<div>\n",
       "<style scoped>\n",
       "    .dataframe tbody tr th:only-of-type {\n",
       "        vertical-align: middle;\n",
       "    }\n",
       "\n",
       "    .dataframe tbody tr th {\n",
       "        vertical-align: top;\n",
       "    }\n",
       "\n",
       "    .dataframe thead th {\n",
       "        text-align: right;\n",
       "    }\n",
       "</style>\n",
       "<table border=\"1\" class=\"dataframe\">\n",
       "  <thead>\n",
       "    <tr style=\"text-align: right;\">\n",
       "      <th></th>\n",
       "      <th>id</th>\n",
       "      <th>date</th>\n",
       "      <th>user</th>\n",
       "      <th>pc</th>\n",
       "      <th>to</th>\n",
       "      <th>cc</th>\n",
       "      <th>bcc</th>\n",
       "      <th>from</th>\n",
       "      <th>size</th>\n",
       "      <th>attachments</th>\n",
       "      <th>content</th>\n",
       "    </tr>\n",
       "  </thead>\n",
       "  <tbody>\n",
       "    <tr>\n",
       "      <th>0</th>\n",
       "      <td>{R3I7-S4TX96FG-8219JWFF}</td>\n",
       "      <td>01/02/2010 07:11:45</td>\n",
       "      <td>LAP0338</td>\n",
       "      <td>PC-5758</td>\n",
       "      <td>Dean.Flynn.Hines@dtaa.com;Wade_Harrison@lockhe...</td>\n",
       "      <td>Nathaniel.Hunter.Heath@dtaa.com</td>\n",
       "      <td>NaN</td>\n",
       "      <td>Lynn.Adena.Pratt@dtaa.com</td>\n",
       "      <td>25830</td>\n",
       "      <td>0</td>\n",
       "      <td>middle f2 systems 4 july techniques powerful d...</td>\n",
       "    </tr>\n",
       "  </tbody>\n",
       "</table>\n",
       "</div>"
      ],
      "text/plain": [
       "                         id                 date     user       pc  \\\n",
       "0  {R3I7-S4TX96FG-8219JWFF}  01/02/2010 07:11:45  LAP0338  PC-5758   \n",
       "\n",
       "                                                  to  \\\n",
       "0  Dean.Flynn.Hines@dtaa.com;Wade_Harrison@lockhe...   \n",
       "\n",
       "                                cc  bcc                       from   size  \\\n",
       "0  Nathaniel.Hunter.Heath@dtaa.com  NaN  Lynn.Adena.Pratt@dtaa.com  25830   \n",
       "\n",
       "   attachments                                            content  \n",
       "0            0  middle f2 systems 4 july techniques powerful d...  "
      ]
     },
     "execution_count": 26,
     "metadata": {},
     "output_type": "execute_result"
    }
   ],
   "source": [
    "email.head(1)"
   ]
  },
  {
   "cell_type": "code",
   "execution_count": 27,
   "metadata": {},
   "outputs": [
    {
     "data": {
      "text/html": [
       "<div>\n",
       "<style scoped>\n",
       "    .dataframe tbody tr th:only-of-type {\n",
       "        vertical-align: middle;\n",
       "    }\n",
       "\n",
       "    .dataframe tbody tr th {\n",
       "        vertical-align: top;\n",
       "    }\n",
       "\n",
       "    .dataframe thead th {\n",
       "        text-align: right;\n",
       "    }\n",
       "</style>\n",
       "<table border=\"1\" class=\"dataframe\">\n",
       "  <thead>\n",
       "    <tr style=\"text-align: right;\">\n",
       "      <th></th>\n",
       "      <th>id</th>\n",
       "      <th>date</th>\n",
       "      <th>user</th>\n",
       "      <th>pc</th>\n",
       "      <th>filename</th>\n",
       "      <th>content</th>\n",
       "    </tr>\n",
       "  </thead>\n",
       "  <tbody>\n",
       "    <tr>\n",
       "      <th>0</th>\n",
       "      <td>{L9G8-J9QE34VM-2834VDPB}</td>\n",
       "      <td>01/02/2010 07:23:14</td>\n",
       "      <td>MOH0273</td>\n",
       "      <td>PC-6699</td>\n",
       "      <td>EYPC9Y08.doc</td>\n",
       "      <td>D0-CF-11-E0-A1-B1-1A-E1 during difficulty over...</td>\n",
       "    </tr>\n",
       "  </tbody>\n",
       "</table>\n",
       "</div>"
      ],
      "text/plain": [
       "                         id                 date     user       pc  \\\n",
       "0  {L9G8-J9QE34VM-2834VDPB}  01/02/2010 07:23:14  MOH0273  PC-6699   \n",
       "\n",
       "       filename                                            content  \n",
       "0  EYPC9Y08.doc  D0-CF-11-E0-A1-B1-1A-E1 during difficulty over...  "
      ]
     },
     "execution_count": 27,
     "metadata": {},
     "output_type": "execute_result"
    }
   ],
   "source": [
    "file.head(1)"
   ]
  },
  {
   "cell_type": "code",
   "execution_count": 28,
   "metadata": {},
   "outputs": [
    {
     "data": {
      "text/html": [
       "<div>\n",
       "<style scoped>\n",
       "    .dataframe tbody tr th:only-of-type {\n",
       "        vertical-align: middle;\n",
       "    }\n",
       "\n",
       "    .dataframe tbody tr th {\n",
       "        vertical-align: top;\n",
       "    }\n",
       "\n",
       "    .dataframe thead th {\n",
       "        text-align: right;\n",
       "    }\n",
       "</style>\n",
       "<table border=\"1\" class=\"dataframe\">\n",
       "  <thead>\n",
       "    <tr style=\"text-align: right;\">\n",
       "      <th></th>\n",
       "      <th>id</th>\n",
       "      <th>date</th>\n",
       "      <th>user</th>\n",
       "      <th>pc</th>\n",
       "      <th>activity</th>\n",
       "    </tr>\n",
       "  </thead>\n",
       "  <tbody>\n",
       "    <tr>\n",
       "      <th>0</th>\n",
       "      <td>{X1D9-S0ES98JV-5357PWMI}</td>\n",
       "      <td>01/02/2010 06:49:00</td>\n",
       "      <td>NGF0157</td>\n",
       "      <td>PC-6056</td>\n",
       "      <td>Logon</td>\n",
       "    </tr>\n",
       "  </tbody>\n",
       "</table>\n",
       "</div>"
      ],
      "text/plain": [
       "                         id                 date     user       pc activity\n",
       "0  {X1D9-S0ES98JV-5357PWMI}  01/02/2010 06:49:00  NGF0157  PC-6056    Logon"
      ]
     },
     "execution_count": 28,
     "metadata": {},
     "output_type": "execute_result"
    }
   ],
   "source": [
    "logon.head(1)"
   ]
  },
  {
   "cell_type": "code",
   "execution_count": 29,
   "metadata": {},
   "outputs": [
    {
     "data": {
      "text/html": [
       "<div>\n",
       "<style scoped>\n",
       "    .dataframe tbody tr th:only-of-type {\n",
       "        vertical-align: middle;\n",
       "    }\n",
       "\n",
       "    .dataframe tbody tr th {\n",
       "        vertical-align: top;\n",
       "    }\n",
       "\n",
       "    .dataframe thead th {\n",
       "        text-align: right;\n",
       "    }\n",
       "</style>\n",
       "<table border=\"1\" class=\"dataframe\">\n",
       "  <thead>\n",
       "    <tr style=\"text-align: right;\">\n",
       "      <th></th>\n",
       "      <th>employee_name</th>\n",
       "      <th>user_id</th>\n",
       "      <th>O</th>\n",
       "      <th>C</th>\n",
       "      <th>E</th>\n",
       "      <th>A</th>\n",
       "      <th>N</th>\n",
       "    </tr>\n",
       "  </thead>\n",
       "  <tbody>\n",
       "    <tr>\n",
       "      <th>0</th>\n",
       "      <td>Calvin Edan Love</td>\n",
       "      <td>CEL0561</td>\n",
       "      <td>40</td>\n",
       "      <td>39</td>\n",
       "      <td>36</td>\n",
       "      <td>19</td>\n",
       "      <td>40</td>\n",
       "    </tr>\n",
       "  </tbody>\n",
       "</table>\n",
       "</div>"
      ],
      "text/plain": [
       "      employee_name  user_id   O   C   E   A   N\n",
       "0  Calvin Edan Love  CEL0561  40  39  36  19  40"
      ]
     },
     "execution_count": 29,
     "metadata": {},
     "output_type": "execute_result"
    }
   ],
   "source": [
    "psychometric.head(1)"
   ]
  },
  {
   "cell_type": "markdown",
   "metadata": {},
   "source": [
    "**Lets consider datas from the following users only,**\n",
    "1. EDB0714\n",
    "2. HXL0968\n",
    "3. TNM0961\n",
    "4. MOH0273"
   ]
  },
  {
   "cell_type": "code",
   "execution_count": 83,
   "metadata": {},
   "outputs": [],
   "source": [
    "# execute if needed or executing for the first time\n",
    "\n",
    "#add users if needed\n",
    "users = [['U1','EDB0714'],\n",
    "         ['U2','HXL0968'],\n",
    "         ['U3','TNM0961'],\n",
    "         ['U4','MOH0273']]\n",
    "\n",
    "#create respective folders for each user under a common folder data\n",
    "    #check if path exist --  if not create one\n",
    "for user in users:\n",
    "    path='./data/'+str(user[1])\n",
    "    if (os.path.isdir(path))!=True:\n",
    "        os.makedirs(path)  \n"
   ]
  },
  {
   "cell_type": "code",
   "execution_count": 82,
   "metadata": {},
   "outputs": [],
   "source": [
    "# execute if needed or executing for the first time\n",
    "\n",
    "# User 1 - EDB0714\n",
    "U1_device = device.loc[device['user']=='EDB0714']\n",
    "U1_email = email.loc[email['user']=='EDB0714']\n",
    "U1_http = http.loc[http['user']=='EDB0714']\n",
    "U1_file = file.loc[file['user']=='EDB0714']\n",
    "U1_logon = logon.loc[logon['user']=='EDB0714']\n",
    "U1_psychometric = psychometric.loc[psychometric['user_id']=='EDB0714']\n",
    "\n",
    "        # Storing the data into .csv for further use\n",
    "U1_device.to_csv(\"./data/EDB0714/U1_device.csv\",index=False)\n",
    "U1_email.to_csv(\"./data/EDB0714/U1_email.csv\",index=False)\n",
    "U1_http.to_csv(\"./data/EDB0714/U1_http.csv\",index=False)\n",
    "U1_file.to_csv(\"./data/EDB0714/U1_file.csv\",index=False)\n",
    "U1_logon.to_csv(\"./data/EDB0714/U1_logon.csv\",index=False)\n",
    "U1_psychometric.to_csv(\"./data/EDB0714/U1_psychometric.csv\",index=False)\n",
    "\n",
    "\n",
    "# User 2 - HXL0968\n",
    "\n",
    "U2_device = device.loc[device['user']=='HXL0968']\n",
    "U2_email = email.loc[email['user']=='HXL0968']\n",
    "U2_http = http.loc[http['user']=='HXL0968']\n",
    "U2_file = file.loc[file['user']=='HXL0968']\n",
    "U2_logon = logon.loc[logon['user']=='HXL0968']\n",
    "U2_psychometric = psychometric.loc[psychometric['user_id']=='HXL0968']\n",
    "\n",
    "        # Storing the data into .csv for further use\n",
    "\n",
    "U2_device.to_csv(\"./data/EDB0714/U1_device.csv\",index=False)\n",
    "U2_email.to_csv(\"./data/EDB0714/U1_email.csv\",index=False)\n",
    "U2_http.to_csv(\"./data/EDB0714/U1_http.csv\",index=False)\n",
    "U2_file.to_csv(\"./data/EDB0714/U1_file.csv\",index=False)\n",
    "U2_logon.to_csv(\"./data/EDB0714/U1_logon.csv\",index=False)\n",
    "U2_psychometric.to_csv(\"./data/EDB0714/U1_psychometric.csv\",index=False)\n",
    "\n",
    "# User 3 - TNM0961\n",
    "\n",
    "U3_device = device.loc[device['user']=='TNM0961']\n",
    "U3_email = email.loc[email['user']=='TNM0961']\n",
    "U3_http = http.loc[http['user']=='TNM0961']\n",
    "U3_file = file.loc[file['user']=='TNM0961']\n",
    "U3_logon = logon.loc[logon['user']=='TNM0961']\n",
    "U3_psychometric = psychometric.loc[psychometric['user_id']=='TNM0961']\n",
    "\n",
    "        # Storing the data into .csv for further use\n",
    "\n",
    "U3_device.to_csv(\"./data/EDB0714/U1_device.csv\",index=False)\n",
    "U3_email.to_csv(\"./data/EDB0714/U1_email.csv\",index=False)\n",
    "U3_http.to_csv(\"./data/EDB0714/U1_http.csv\",index=False)\n",
    "U3_file.to_csv(\"./data/EDB0714/U1_file.csv\",index=False)\n",
    "U3_logon.to_csv(\"./data/EDB0714/U1_logon.csv\",index=False)\n",
    "U3_psychometric.to_csv(\"./data/EDB0714/U1_psychometric.csv\",index=False)\n",
    "\n",
    "# User 4 - MOH0273\n",
    "\n",
    "U4_device = device.loc[device['user']=='MOH0273']\n",
    "U4_email = email.loc[email['user']=='MOH0273']\n",
    "U4_http = http.loc[http['user']=='MOH0273']\n",
    "U4_file = file.loc[file['user']=='MOH0273']\n",
    "U4_logon = logon.loc[logon['user']=='MOH0273']\n",
    "U4_psychometric = psychometric.loc[psychometric['user_id']=='MOH0273']\n",
    "\n",
    "        # Storing the data into .csv for further use\n",
    "U4_device.to_csv(\"./data/EDB0714/U1_device.csv\",index=False)\n",
    "U4_email.to_csv(\"./data/EDB0714/U1_email.csv\",index=False)\n",
    "U4_http.to_csv(\"./data/EDB0714/U1_http.csv\",index=False)\n",
    "U4_file.to_csv(\"./data/EDB0714/U1_file.csv\",index=False)\n",
    "U4_logon.to_csv(\"./data/EDB0714/U1_logon.csv\",index=False)\n",
    "U4_psychometric.to_csv(\"./data/EDB0714/U1_psychometric.csv\",index=False)\n",
    "\n"
   ]
  },
  {
   "cell_type": "code",
   "execution_count": 43,
   "metadata": {},
   "outputs": [],
   "source": [
    "# Reading the saved files for individual user\n",
    "\n",
    "# User 1 - EDB0714\n",
    "U1_device = pd.read_csv(\"./data/EDB0714/U1_device.csv\")\n",
    "U1_email = pd.read_csv(\"./data/EDB0714/U1_email.csv\")\n",
    "U1_http = pd.read_csv(\"./data/EDB0714/U1_http.csv\")\n",
    "U1_file = pd.read_csv(\"./data/EDB0714/U1_file.csv\")\n",
    "U1_logon = pd.read_csv(\"./data/EDB0714/U1_logon.csv\")\n",
    "U1_psychometric = pd.read_csv(\"./data/EDB0714/U1_psychometric.csv\")\n",
    "\n",
    "# User 2 - HXL0968\n",
    "U2_device = pd.read_csv(\"./data/HXL0968/U2_device.csv\")\n",
    "U2_email = pd.read_csv(\"./data/HXL0968/U2_email.csv\")\n",
    "U2_http = pd.read_csv(\"./data/HXL0968/U2_http.csv\")\n",
    "U2_file = pd.read_csv(\"./data/HXL0968/U2_file.csv\")\n",
    "U2_logon = pd.read_csv(\"./data/HXL0968/U2_logon.csv\")\n",
    "U2_psychometric = pd.read_csv(\"./data/HXL0968/U2_psychometric.csv\")\n",
    "\n",
    "# User 3 - TNM0961\n",
    "U3_device = pd.read_csv(\"./data/TNM0961/U3_device.csv\")\n",
    "U3_email = pd.read_csv(\"./data/TNM0961/U3_email.csv\")\n",
    "U3_http = pd.read_csv(\"./data/TNM0961/U3_http.csv\")\n",
    "U3_file = pd.read_csv(\"./data/TNM0961/U3_file.csv\")\n",
    "U3_logon = pd.read_csv(\"./data/TNM0961/U3_logon.csv\")\n",
    "U3_psychometric = pd.read_csv(\"./data/TNM0961/U3_psychometric.csv\")\n",
    "\n",
    "# User 4 - MOH0273\n",
    "U4_device = pd.read_csv(\"./data/MOH0273/U4_device.csv\")\n",
    "U4_email = pd.read_csv(\"./data/MOH0273/U4_email.csv\")\n",
    "U4_http = pd.read_csv(\"./data/MOH0273/U4_http.csv\")\n",
    "U4_file = pd.read_csv(\"./data/MOH0273/U4_file.csv\")\n",
    "U4_logon = pd.read_csv(\"./data/MOH0273/U4_logon.csv\")\n",
    "U4_psychometric = pd.read_csv(\"./data/MOH0273/U4_psychometric.csv\")"
   ]
  }
 ],
 "metadata": {
  "kernelspec": {
   "display_name": "Python 3",
   "language": "python",
   "name": "python3"
  },
  "language_info": {
   "codemirror_mode": {
    "name": "ipython",
    "version": 3
   },
   "file_extension": ".py",
   "mimetype": "text/x-python",
   "name": "python",
   "nbconvert_exporter": "python",
   "pygments_lexer": "ipython3",
   "version": "3.6.5"
  }
 },
 "nbformat": 4,
 "nbformat_minor": 2
}
